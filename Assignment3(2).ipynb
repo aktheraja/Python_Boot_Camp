{
 "cells": [
  {
   "cell_type": "markdown",
   "metadata": {},
   "source": [
    "## <h1> <center> ENSF 519.01 Programming Fundamentals for Data Engineers </center></h1>\n",
    "<h2> <center> Assignment 2: Regular Expression, Comprehension style coding for iteration and more basic python examples   (70 marks)</center></h2>\n",
    "<h3> <center> Due: by Wednesday Oct 10th, 11.59 pm. To be submitted on D2L. </center></h3>\n",
    "<h3> <center> <font color='red'>IMPORTANT NOTE: each task must be implemented exactly as asked, even if there are other easier or better solutions.</font> </center></h3>\n",
    "\n",
    "\n"
   ]
  },
  {
   "cell_type": "markdown",
   "metadata": {},
   "source": [
    "Edit this file and write your solutions to the problems in sections specified with `# Your solution goes here`. Test your code and when you were done, download this notebook as an `.ipynb` file and submit it to D2L. To get this file, in Jupyter notebook you can go to File -> Download as -> Notebook(.ipynb)"
   ]
  },
  {
   "cell_type": "markdown",
   "metadata": {},
   "source": [
    "# Problem 1: Newfoundland: Peeps at Many Lands (30 marks)\n",
    "\n",
    "In this problem, we read a text of a complete book called \"Newfoundland Peeps at Many Lands\", by Ford Fairford and do two exercises with string matching and regular expressions.\n",
    "\n",
    "The book file is in the same folder as this notebook in D2L and is called NewfoundlandBook.txt.\n"
   ]
  },
  {
   "cell_type": "markdown",
   "metadata": {},
   "source": [
    "## Problem 1 - Exercise 1 (10 marks)\n",
    "\n",
    "Write a Python program (**without the help of regular expressions**) that returns a set (unique items) of words from the given book that each word has the following characteristic: \n",
    "\n",
    "\"the letters of the word are positioned in descending order\". \n",
    "\n",
    "For example, the word \"hello\" does not have that characteristic, but the word \"some\" is such a word, since its letters are 's', 'o', 'm', and 'e', which are positioned in descending order. \n",
    "\n",
    "**Note1:** The returned words must consist of only alebetical lowercase characters.\n",
    "\n",
    "**Note2:** Do not include words with one letter.\n",
    "\n"
   ]
  },
  {
   "cell_type": "code",
   "execution_count": 1,
   "metadata": {},
   "outputs": [
    {
     "name": "stdout",
     "output_type": "stream",
     "text": [
      "{'pond', 'lie', 'rolled', 'led', 'roll', 'wrong', 'too', 'see', 'roof', 'if', 'of', 'feed', 'so', 'use', 'red', 'old', 'speed', 'fed', 'on', 'took', 'room', 'one', 'web', 'upon', 'tied', 'told', 'soon', 'some', 'rod', 'used', 'son', 'we', 'void', 'sole', 'sea', 'need', 'she', 'us', 'fee', 'life', 'he', 'sponge', 'wolf', 'me', 'off', 'to', 'tree', 'song', 'up', 'the', 'wood', 'tea'}\n",
      "52\n"
     ]
    }
   ],
   "source": [
    "# your solution \n",
    "import re\n",
    "values_file_name = 'NewfoundlandBook.txt'\n",
    "file = open (values_file_name,mode='r',encoding='utf8')\n",
    "wordlist=set()\n",
    "sortedwords=set()\n",
    "for line in file:\n",
    "    for word in line.split():\n",
    "        word =word.rstrip(',:?!.;')\n",
    "        if (len(word)>1) and (word.islower()):\n",
    "            sortedwords =''.join(sorted(word,reverse=True))\n",
    "            if(word==sortedwords):\n",
    "                wordlist.add(sortedwords)               \n",
    "print(wordlist)\n",
    "print(len(wordlist))\n",
    "\n",
    "\n"
   ]
  },
  {
   "cell_type": "markdown",
   "metadata": {},
   "source": [
    "## Problem 1 - Exercise 2 (20 marks)\n",
    "\n",
    "Write a Python program, **using regular expressions**, that returns the second sentence of each chapter in the book."
   ]
  },
  {
   "cell_type": "code",
   "execution_count": 2,
   "metadata": {
    "scrolled": true
   },
   "outputs": [
    {
     "name": "stdout",
     "output_type": "stream",
     "text": [
      " It\n",
      "is generally believed that Newfoundland is somewhere in the Arctic\n",
      "Circle; that the inhabitants are clothed in furs, live in snow huts,\n",
      "feed on codfish; and that for six months of the year the island is\n",
      "unapproachable on account of barriers of ice and impenetrable fogs.\n",
      "\n",
      " There is much tradition associated with the researches\n",
      "of historians, and very few descriptions of the races inhabiting this\n",
      "large island in the early ages can be considered at all authentic.\n",
      "\n",
      " And through what perils the poor\n",
      "fishermen have to pass! Wind, rain, fog, snow, and ice sweep over\n",
      "the fishing-grounds, carrying many a slender craft far out to sea,\n",
      "never again to reach the peaceful harbours and coves from whence they\n",
      "started.\n",
      "\n",
      " Moreover, in\n",
      "many of the small towns there is little attraction out of doors to draw\n",
      "one from the fireside except skating and sleighing; and as there is\n",
      "only a small theatre, there is little in the way of operas, dramas, or\n",
      "musical entertainments.\n",
      "\n",
      " Indeed, their\n",
      "riches have been coveted by many countries, and more than one battle\n",
      "has been fought between nation and nation to gain possession of the\n",
      "famous “gold-mine of the Newfoundland fishery, richer than the famous\n",
      "treasures of Golconda and Peru.\n",
      "\n",
      "\n",
      "The fishing industry has been remunerative for so many generations that\n",
      "little attention has been devoted to the possibilities of the soil,\n",
      "and probably the close proximity of Canada, and its popularity as a\n",
      "country of great rewards for emigrants who are prepared to till the\n",
      "soil, have tended to keep Newfoundland in the background as a suitable\n",
      "Colony for the agricultural emigrants from England and the Continent.\n",
      "\n",
      " Twenty years ago the late Sir Robert Reid began\n",
      "to invade the trackless wilderness with an army of navvies, and in a\n",
      "very short time the iron horses went snorting and panting through the\n",
      "lonely woods and desolate tracts that form the vast interior of the\n",
      "island.\n",
      "\n",
      " And yet what a beautiful land it\n",
      "is! The inhabitants themselves do not fully appreciate the wealth of\n",
      "scenery with which Providence has so abundantly enriched them.\n",
      "\n",
      " Alas! how many of its tragedies are\n",
      "unrecorded upon the pages of history! Until the sea gives up its dead,\n",
      "many of the deeds that have been perpetrated upon its bosom will remain\n",
      "as obscure as the treasures at the base of its restless waters.\n",
      "\n",
      " Fog, rain, snow, and blizzards may be fought and\n",
      "overpowered, but it is seldom that an ocean liner survives a collision\n",
      "with an iceberg.\n",
      "\n",
      " If every tale of daring and heroism on the\n",
      "coastal waters were related, only a bulky volume could possibly contain\n",
      "them.\n",
      "\n",
      " What a noble and gentle animal\n",
      "he is, with his soft, brown, sympathetic eyes, shining black coat,\n",
      "strong-set legs, and commanding head! How the children love him! And\n",
      "how he loves the children! It is a common sight to see him harnessed,\n",
      "drawing a small cart in which is seated a little child.\n",
      "\n",
      " According to authentic records, the most commercially valuable\n",
      "whale, the _Balæna mysticetus_, disappeared from Newfoundland waters\n",
      "in 1850, and the fin-whales, bottle-noses, blue whales, hump-backs,\n",
      "and common rorquals were considered of no value for whalebone.\n",
      "\n",
      " “Far\n",
      "from the madding crowd’s ignoble strife,” the sportsman may return for\n",
      "a season to the simpler life lived by races of men in the days when\n",
      "modern commercial methods were undreamed of, when the starry sky was\n",
      "the hunter’s jewelled roof, when the spongelike moss was his pillow,\n",
      "when time was not divided into sections, and he was not forced to\n",
      "calculate\n",
      "\n",
      "    “How many hours bring about the day;\n",
      "     How many days will finish up the year;\n",
      "     How many years a mortal man may live.\n",
      "\n",
      "\n",
      "\n",
      "Among all these animals and fishes, none is more interesting than the\n",
      "hair-seal of the North Atlantic.\n",
      "\n",
      " It is associated with the life of the\n",
      "Eskimos, a people who dwell in “thrilling regions of thick-ribb’d ice,”\n",
      "and is considered by the outside world as\n",
      "\n",
      "    “A land forsaken and dead,\n",
      "     Where the ghostly icebergs go.\n",
      "\n",
      "\n",
      "\n",
      "Simple typographical errors were corrected; occasional unpaired\n",
      "quotation marks retained.\n"
     ]
    }
   ],
   "source": [
    "# your solution\n",
    "import re\n",
    "values_file_name = 'NewfoundlandBook.txt'\n",
    "with open (values_file_name,mode='r',encoding='utf8') as f:\n",
    "    fil= f.read()\n",
    "y = re.findall(r'[IVXLCDM]+\\n\\n[^a-z]+\\n\\n[^.]*\\.([^.]*\\.)',fil,re.VERBOSE)\n",
    "print('\\n\\n'.join(y))"
   ]
  },
  {
   "cell_type": "markdown",
   "metadata": {},
   "source": [
    "# Problem 2: User registration (40 marks)\n",
    "\n",
    "In this problem, you will write a registration system. \n",
    "\n",
    "\n",
    "## Problem 2. Part1: Loading the system (10 marks)\n",
    "First you need to load a list of existing users from a .csv file, named 'UserList.csv' to a list of dictionaries. \n",
    "\n",
    "**Note 1:**  the .csv file may or may not exist (e.g. in the very first run, there is no such file). If there is no existing list, you create an empty list of dictionaries, as your initial user list.\n",
    "\n",
    "**Note 2:** When reading from a .csv file create the list of dictionaries in a **comprehension style**.\n",
    "\n",
    "After seting up the users list, the system will  prompt a command directory, as follows:\n",
    "\n",
    "1. `Enter 'S' (Captial S) for Signing up a new user` \n",
    "2. `Enter 'R' (Captial R) for Admin report`  \n",
    "3. `Enter 'E' (Captial E) for Exit` \n",
    "\n",
    "Then it waits for the users response. If an invalid input is entered, an error message will be printed and the command directory will be prompted again. \n",
    "\n"
   ]
  },
  {
   "cell_type": "code",
   "execution_count": null,
   "metadata": {},
   "outputs": [],
   "source": [
    "#KINDLY GO TO THE LAST CELL TO RUN ALL PROGRAMS. THANKS"
   ]
  },
  {
   "cell_type": "code",
   "execution_count": 3,
   "metadata": {},
   "outputs": [
    {
     "name": "stdout",
     "output_type": "stream",
     "text": [
      "Main Menu: Please select one of the following options:\n",
      "1. Enter 'S' (Capital S) for Signing up a new user.\n",
      "2. Enter 'R' (Capital R) for Admin Report.\n",
      "3. Enter 'E' for Exit.\n",
      "S\n",
      "Input is VALID.\n"
     ]
    }
   ],
   "source": [
    "# your solution \n",
    "try: \n",
    "    with open('userList.csv') as handle:\n",
    "        userList=[{line.split(',')[0]:line.split(',')[1]} for line in handle]\n",
    "except: \n",
    "    userList = [{}]\n",
    "while True:\n",
    "    print('Main Menu: Please select one of the following options:')\n",
    "    response = input('1. Enter  (Capital S) for Signing up a new user.\\n'\n",
    "                     '2. Enter (Capital R) for Admin Report.\\n'\n",
    "                     '3. Enter  \\'E\\' for Exit.\\n')\n",
    "    if response not in ['S', 'E', 'R']:\n",
    "        print('Invalid input. Please try again.')\n",
    "    else:\n",
    "        print(\"Input is VALID.\")\n",
    "        break"
   ]
  },
  {
   "cell_type": "code",
   "execution_count": 4,
   "metadata": {},
   "outputs": [],
   "source": [
    "import re\n",
    "def sign_up(userList):    \n",
    "    while (True):\n",
    "        counti=0\n",
    "        IdIsVerified=False\n",
    "        while((counti<3) & (IdIsVerified==False)):\n",
    "            ui =input('enter your Id: ')\n",
    "            counti+=1\n",
    "            #checking if user input is already an ID\n",
    "            for each in userList:\n",
    "                if (ui in each):#to check if user name exist\n",
    "                    print('Please try again.')\n",
    "                    break\n",
    "            else:\n",
    "                Id=ui\n",
    "                IdIsVerified=True# verifying the identificaton \n",
    "                continue\n",
    "        if(counti>=3):\n",
    "            break\n",
    "        Id=ui\n",
    "        countp = 0\n",
    "        while(countp<3):\n",
    "            is_password_unique = True\n",
    "            pwd=input(\"Enter your password: \")\n",
    "            if len(pwd)<8 or len(pwd)>25:\n",
    "                print( \"Please enter between 8 to 25 letters\")\n",
    "            if not re.search('[a-z]',pwd):\n",
    "                print (\"please ensure password with atleast a lower Case\")\n",
    "                is_password_unique = False\n",
    "            if not re.search('[A-Z]',pwd):\n",
    "                print (\"please ensure password with atleast a Upper Case\")\n",
    "                is_password_unique = False\n",
    "            if not re.search('[0-9]',pwd):\n",
    "                print (\"the pssword must consst of one integer\")\n",
    "                is_password_unique = False\n",
    "            if not re.search('[\\$#@\\_\\-\\*!]+', pwd):\n",
    "                print(\"enter at least one of [$#@_-*!] in your password\")\n",
    "                is_password_unique = False\n",
    "            if not is_password_unique:\n",
    "                countp+=1\n",
    "                if countp==3:\n",
    "                    print(\"you have exualted number of time\")\n",
    "                    break\n",
    "            else:\n",
    "                userList.append({Id:pwd})\n",
    "                print('User successfully registered.')\n",
    "                break                                    \n",
    "        if(countp>=3):\n",
    "            break "
   ]
  },
  {
   "cell_type": "code",
   "execution_count": null,
   "metadata": {},
   "outputs": [],
   "source": [
    "#KINDLY GO TO THE LAST CELL TO RUN ALL PROGRAMS. THANKS"
   ]
  },
  {
   "cell_type": "markdown",
   "metadata": {},
   "source": [
    "## Problem 2. Part2: siging up (20 marks)\n",
    "\n",
    "In case of 'S', the users will be prompted to enter their ID first. If the entered ID is already registered in the system (exists in the users list), it cannot be accepted as a new user and the user will be asked to re-enter a new ID. After receiving a unique new ID the user should be promted to enter a Password that follows a certain set of conditions, as follows:\n",
    "\n",
    "1. At least 1 lowercase letter \n",
    "2. At least 1 digit \n",
    "3. At least 1 uppercase letter \n",
    "4. At least 1 special character from this list [$#@_-*!]\n",
    "5. Minimum password length: 8\n",
    "6. Maximum password length: 25\n",
    "\n",
    "During the sign-up, you will need to check the validity of password entered by the user.\n",
    "If the password does not conform with any of the above rules, the user should be prompted with the reason (if multiple rules are violated, you only need to mention one reason not all). Then the user will be asked to re-enter a new valid password. \n",
    "\n",
    "**Note:** The re-entering of ID and the re-entering of Password are allowed for three times each. After three unsuccessful tries, the systems will go back to the command directory prompt.\n"
   ]
  },
  {
   "cell_type": "code",
   "execution_count": 5,
   "metadata": {},
   "outputs": [
    {
     "name": "stdout",
     "output_type": "stream",
     "text": [
      "Main Menu: Please select one of the following options:\n",
      "1. Enter 'S' (Capital S) for Signing up a new user.\n",
      "2. Enter 'R' (Capital R) for Admin Report.\n",
      "3. Enter 'E' for Exit.\n",
      "S\n",
      "enter your Id: ain\n",
      "Enter your password: Ain@2011\n",
      "User successfully registered.\n",
      "enter your Id: Sete\n",
      "Enter your password: Akn@2011\n",
      "User successfully registered.\n",
      "enter your Id: jjnn\n",
      "Enter your password: bjbjj\n",
      "Please enter between 8 to 25 letters\n",
      "please ensure password with atleast an Upper Character\n",
      "the pssword must consst of one integer\n",
      "enter at least one of [$#@_-*!] in your password\n",
      "Enter your password:  jbbj\n",
      "Please enter between 8 to 25 letters\n",
      "please ensure password with atleast an Upper Character\n",
      "the pssword must consst of one integer\n",
      "enter at least one of [$#@_-*!] in your password\n",
      "Enter your password: jnjnk\n",
      "Please enter between 8 to 25 letters\n",
      "please ensure password with atleast an Upper Character\n",
      "the pssword must consst of one integer\n",
      "enter at least one of [$#@_-*!] in your password\n",
      "you have exualted number of time\n"
     ]
    }
   ],
   "source": [
    "# your solution \n",
    "try: \n",
    "    with open('userList.csv') as handle:\n",
    "        userList=[{line.split(',')[0]:line.split(',')[1]} for line in handle]\n",
    "except: \n",
    "    userList = [{}]\n",
    "while True:\n",
    "    print('Main Menu: Please select one of the following options:')\n",
    "    response = input('1. Enter (Capital S) for Signing up a new user.\\n'\n",
    "                     '2. Enter (Capital R) for Admin Report.\\n'\n",
    "                     '3. Enter \\'E\\'for Exit.\\n')\n",
    "    if response not in ['S']:\n",
    "        print('Invalid input. Please try again.')\n",
    "        continue\n",
    "    if response == 'S':#Call function to register new users \n",
    "        sign_up(userList)\n",
    "        break"
   ]
  },
  {
   "cell_type": "code",
   "execution_count": null,
   "metadata": {},
   "outputs": [],
   "source": [
    "#KINDLY GO TO THE LAST CELL TO RUN ALL PROGRAMS. THANKS"
   ]
  },
  {
   "cell_type": "markdown",
   "metadata": {},
   "source": [
    "## Problem 2. Part3: Reporting (5 marks)\n",
    "\n",
    "In case of 'R', the user will ask for the Admin Password, which you all use the same hard-coded password: `Python_Lab3_Admin`. If the password is correct, a list of dictionaries (ID:Password) will be printed for the registred users, alphabetically sorted. In case of wrong password, the system goes back to the command directory prompt.\n",
    "\n"
   ]
  },
  {
   "cell_type": "code",
   "execution_count": null,
   "metadata": {},
   "outputs": [],
   "source": [
    "#KINDLY GO TO THE LAST CELL TO RUN ALL PROGRAMS. THANKS"
   ]
  },
  {
   "cell_type": "code",
   "execution_count": 6,
   "metadata": {},
   "outputs": [],
   "source": [
    "# your solution \n",
    "\n",
    "def reporting(userList):\n",
    "    userInput=input('Please enter admin password: ')\n",
    "    while (True):\n",
    "        if (userInput!='Python_Lab3_Admin'):\n",
    "        else:\n",
    "            print(userList)\n",
    "            return"
   ]
  },
  {
   "cell_type": "code",
   "execution_count": 7,
   "metadata": {},
   "outputs": [
    {
     "name": "stdout",
     "output_type": "stream",
     "text": [
      "Main Menu: Please select one of the following options:\n",
      "1. Enter 'S' (Capital S) for Signing up a new user.\n",
      "2. Enter 'R' (Capital R) for Admin Report.\n",
      "3. Enter 'E' for Exit.\n",
      "R\n",
      "Please enter admin password: Python_Lab3_Admin\n",
      "[]\n"
     ]
    }
   ],
   "source": [
    "try: \n",
    "    with open('userList.csv') as handle:\n",
    "        userList=[{line.split(',')[0]:line.split(',')[1]} for line in handle]\n",
    "except: \n",
    "    userList = [{}]\n",
    "while True:\n",
    "    print('Main Menu: Please select one of the following options:')\n",
    "    response = input('1. Enter (Capital S) for Signing up a new user.\\n'\n",
    "                     '2. Enter (Capital R) for Admin Report.\\n'\n",
    "                     '3. Enter for Exit.\\n')\n",
    "    if response not in ['R']:\n",
    "        print('Invalid input. Please try again.')\n",
    "        continue\n",
    "    if response == 'R':#Call function to print Admin Report\n",
    "        reporting(userList)\n",
    "        break"
   ]
  },
  {
   "cell_type": "markdown",
   "metadata": {},
   "source": [
    "## Problem 2. Part4: Closing (5 marks)\n",
    "\n",
    "In case of 'E', first the most current list of users will be saved in the same .csv file (overwriting 'UserList.csv'), then the program is terminated. \n",
    "\n"
   ]
  },
  {
   "cell_type": "code",
   "execution_count": null,
   "metadata": {},
   "outputs": [],
   "source": [
    "#KINDLY GO TO THE LAST CELL TO RUN ALL PROGRAMS. THANKS"
   ]
  },
  {
   "cell_type": "code",
   "execution_count": 8,
   "metadata": {},
   "outputs": [],
   "source": [
    "# your solution \n",
    "def exit_program(userList):\n",
    "    with open('userList.csv', 'wt') as handle:\n",
    "        string=\"\"\n",
    "        for item in userList:\n",
    "            for (k,v) in item.items():\n",
    "                Id=k.rstrip()\n",
    "                pwd=v.rstrip()\n",
    "            string+=Id+\",\"+pwd+\"\\n\"\n",
    "        handle.write(string)\n"
   ]
  },
  {
   "cell_type": "code",
   "execution_count": 9,
   "metadata": {},
   "outputs": [
    {
     "name": "stdout",
     "output_type": "stream",
     "text": [
      "Main Menu: Please select one of the following options:\n",
      "1. Enter 'S' (Capital S) for Signing up a new user.\n",
      "2. Enter 'R' (Capital R) for Admin Report.\n",
      "3. Enter 'E' for Exit.\n",
      "E\n"
     ]
    }
   ],
   "source": [
    "try: \n",
    "    with open('userList.csv') as handle:\n",
    "        userList=[{line.split(',')[0]:line.split(',')[1]} for line in handle]\n",
    "except: \n",
    "    userList = [{}]\n",
    "while True:\n",
    "    print('Main Menu: Please select one of the following options:')\n",
    "    response = input('1. Enter  (Capital S) for Signing up a new user.\\n'\n",
    "                     '2. Enter  (Capital R) for Admin Report.\\n'\n",
    "                     '3. Enter \\'E\\'for Exit.\\n')\n",
    "    if response not in ['E']:\n",
    "        print('Invalid input. Please try again.')\n",
    "        continue\n",
    "    if response == 'E':#Call function to overwrite file\n",
    "        exit_program(userList)\n",
    "        break"
   ]
  },
  {
   "cell_type": "code",
   "execution_count": null,
   "metadata": {},
   "outputs": [
    {
     "name": "stdout",
     "output_type": "stream",
     "text": [
      "Main Menu: Please select one of the following options:\n",
      "1. Enter (Capital S) for Signing up a new user.\n",
      "2. Enter (Capital R) for Admin Report.\n",
      "3. Enter 'E' for Exit.\n",
      "S\n",
      "enter your Id: akin\n",
      "Enter your password: Akn@3034\n",
      "User successfully registered.\n",
      "enter your Id: wale\n",
      "Enter your password: Akin@3001\n",
      "User successfully registered.\n",
      "enter your Id: sete\n",
      "Enter your password: AKn@330\n",
      "Please enter between 8 to 25 letters\n",
      "User successfully registered.\n",
      "enter your Id: deole\n",
      "Enter your password: sddd\n",
      "Please enter between 8 to 25 letters\n",
      "please ensure password with atleast an Upper Character\n",
      "the pssword must consst of one integer\n",
      "enter at least one of [$#@_-*!] in your password\n",
      "Enter your password: ffdvv\n",
      "Please enter between 8 to 25 letters\n",
      "please ensure password with atleast an Upper Character\n",
      "the pssword must consst of one integer\n",
      "enter at least one of [$#@_-*!] in your password\n",
      "Enter your password: ddved\n",
      "Please enter between 8 to 25 letters\n",
      "please ensure password with atleast an Upper Character\n",
      "the pssword must consst of one integer\n",
      "enter at least one of [$#@_-*!] in your password\n",
      "you have exualted number of time\n",
      "Main Menu: Please select one of the following options:\n",
      "1. Enter (Capital S) for Signing up a new user.\n",
      "2. Enter (Capital R) for Admin Report.\n",
      "3. Enter 'E' for Exit.\n",
      "R\n",
      "Please enter admin password: Python_Lab3_Admin\n",
      "[{'akin': 'Akn@3034'}, {'wale': 'Akin@3001'}, {'sete': 'AKn@330'}]\n",
      "Main Menu: Please select one of the following options:\n"
     ]
    }
   ],
   "source": [
    "try: \n",
    "    with open('userList.csv') as handle:\n",
    "        userList=[{line.split(',')[0]:line.split(',')[1]} for line in handle]\n",
    "except: \n",
    "    userList = [{}]\n",
    "while True:\n",
    "    print('Main Menu: Please select one of the following options:')\n",
    "    response = input('1. Enter (Capital S) for Signing up a new user.\\n'\n",
    "                     '2. Enter (Capital R) for Admin Report.\\n'\n",
    "                     '3. Enter \\'E\\' for Exit.\\n')\n",
    "    if response not in ['S', 'E', 'R']:\n",
    "        print('Invalid input. Please try again.')\n",
    "        continue\n",
    "    if response == 'S':#Call function to register new users \n",
    "        sign_up(userList) \n",
    "        continue\n",
    "    if response == 'R':#Call function to print Admin Report\n",
    "        reporting(userList) \n",
    "        continue\n",
    "    if response == 'E':\n",
    "        exit_program(userList) #Call function to overwrite file\n",
    "        break"
   ]
  },
  {
   "cell_type": "code",
   "execution_count": null,
   "metadata": {},
   "outputs": [],
   "source": []
  }
 ],
 "metadata": {
  "kernelspec": {
   "display_name": "Python 3",
   "language": "python",
   "name": "python3"
  },
  "language_info": {
   "codemirror_mode": {
    "name": "ipython",
    "version": 3
   },
   "file_extension": ".py",
   "mimetype": "text/x-python",
   "name": "python",
   "nbconvert_exporter": "python",
   "pygments_lexer": "ipython3",
   "version": "3.6.5"
  }
 },
 "nbformat": 4,
 "nbformat_minor": 2
}
