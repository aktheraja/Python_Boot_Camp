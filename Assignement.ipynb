{
 "cells": [
  {
   "cell_type": "markdown",
   "metadata": {},
   "source": [
    "##### <h1> <center> ENSF 519.01 Programming Fundamentals for Data Engineers </center></h1>\n",
    "<h2> <center> Assignment 1: Variables, Conditions, Loops, and Strings (50 marks)</center></h2>\n",
    "<h3> <center> Due: Wednesday Sep 26th Midnight. To be submitted on D2L. </center></h2>\n",
    "<h3> <center> <font color='red'>IMPORTANT NOTE: each task must be implemented exactly as asked, even if there are other easier or better solutions.</font> </center></h2>\n",
    "\n",
    "<p><center>This Assignment has 2 problems (each may have multiple parts).</center></p>\n",
    "\n"
   ]
  },
  {
   "cell_type": "markdown",
   "metadata": {},
   "source": [
    "# Hand-in Instruction \n",
    "\n",
    "Edit this file and write your solutions to the problems in sections specified with `# Your solution goes here`. Test your code and when you are done, upload this notebook as an `.ipynb` file and submit it to D2L. "
   ]
  },
  {
   "cell_type": "markdown",
   "metadata": {},
   "source": [
    "# Problem 1. Guess My Age (20pts)\n",
    "\n",
    "In this section, you are supposed to write a Python code that guesses the user's age.\n",
    "\n",
    "Your program starts with a random age between 0 and 100. In each step it will print out the guess and asks the user if it is correct. If it had guessed the age correctly, users inputs `YES!` (10pts)\n",
    "\n",
    "If the user is younger than the guessed age, user inputs `younger` and  the program guesses another random age, which must be less than the previous one. (5pts)\n",
    "\n",
    "The same goes when the user is older than the guess. The user will indicate that by entering `older` as input. (5pts)\n",
    "\n",
    "\n",
    "This would go on until your program guesses the correct age of user.\n"
   ]
  },
  {
   "cell_type": "code",
   "execution_count": null,
   "metadata": {},
   "outputs": [],
   "source": [
    "import random\n",
    "min = 0#initializing value min\n",
    "max= 100#initializng value max\n",
    "a = 'true'#conditional statement\n",
    "while  a == 'true':\n",
    "    c = random.randint(min,max)#random number selected by the python function\n",
    "    print('Are you younger or older than',c, 'years')\n",
    "    print(' Enter \"older\" if more and \"younger\" if less')\n",
    "    agelimit = input()\n",
    "    if agelimit == 'yes':\n",
    "        print ('your age is', c)\n",
    "    else:\n",
    "        if agelimit == 'younger':  #conditon to reset the upper limit\n",
    "                max=c\n",
    "        elif  agelimit == 'older':#conditon to reset the lower limit\n",
    "                min= c\n",
    "        "
   ]
  },
  {
   "cell_type": "markdown",
   "metadata": {},
   "source": [
    "# Problem 2. Date distance (30pts)\n",
    "\n",
    "In this section, you must implement a Python code which gets two dates as input, and calculates the number of days between these two dates. In the following, you can find more details and marking scheme:\n",
    "\n",
    "\n",
    "- You have to get year, month and day in one input (with a proper message) in the following format MM/DD/YY from the user. (2pts)\n",
    "\n",
    "- Make sure that inputs are valid (e.g. the month can't be 35). If they are incorrect, print an error message and ask user to enter a valid number again. Year should be between 1900 and 2100. (8pts)\n",
    "\n",
    "- To get number of days in each month, you can use `monthrange` function provided by python's `calendar` package. Calling `monthrange(year, month)[1]` will give you the number days in the specified month of the year. It automatically takes leap years into account. An example is provided below.\n",
    "\n",
    "- Make sure your code works for any date between year 1990 and 2100. Include the start and end dates. For example for July 10, 2018 and Sep. 02, 2018 as inputs your program should output 55 days as the answer. (10pts)"
   ]
  },
  {
   "cell_type": "code",
   "execution_count": null,
   "metadata": {},
   "outputs": [],
   "source": [
    "from calendar import monthrange\n",
    "\n",
    "x = monthrange(2012, 8)[1]\n",
    "print (x)"
   ]
  },
  {
   "cell_type": "markdown",
   "metadata": {},
   "source": [
    "## Part A. (20pts)\n",
    "\n",
    "In this part, you have to solve the problem using no other calendar function except `monthrange`."
   ]
  },
  {
   "cell_type": "code",
   "execution_count": null,
   "metadata": {},
   "outputs": [],
   "source": [
    "from calendar import monthrange\n",
    "x=input('Enter the fisrt date in format MM/DD/YY:   ')#input the first date\n",
    "y= input('Enter the second date in format MM/DD/YY:      ')#input second date\n",
    "month1 = int(x[:2])#Assigning value from input  to start month\n",
    "day1 = int(x[3:5])#Assigning value from input  to start date\n",
    "year1 = int(x[6:10])#Assigning value from input  to start year\n",
    "month2 = int(y[:2])#Assigning value from input  to end month\n",
    "day2 = int(y[3:5])#Assigning value from input  \n",
    "year2 = int(y[6:10])#Assigning value from input  \n",
    "\n",
    "#checing if the input is not valid\n",
    "if  (month1 <= 1 and month1 >= 12) and (month2 <= 1 and month2 >= 12) and (day1 <= 1 and day1 >= 31) and (day2 <= 1 and day2 >= 31):\n",
    "    print('Enter a valid month, year and days and the year shoud be between 1900 and 2100')\n",
    "    break\n",
    "else:\n",
    "    numberOfdays=0     #setting counters for number of days\n",
    "    daysDiff = 0\n",
    "    k = year1                       #initialing start year\n",
    "    b = month1                      #initializnf start month\n",
    "    while(k <= year2):\n",
    "        while(b <= 12):\n",
    "            numberOfdays = numberOfdays + monthrange(k,b)[1]   #calculating number of days in month range\n",
    "            if month1 == month2 and year1 == year2:\n",
    "                daysDiff = day2 - day1\n",
    "                break\n",
    "            elif b == month2 and k == year2:\n",
    "                daysDiff = numberOfdays - monthrange(k, b)[1] + day2-day1\n",
    "                break\n",
    "            b = b + 1 # countng month to the 12th month\n",
    "        if b > 12 and year1 != year2:\n",
    "            k = k + 1      #setting year to the following year \n",
    "            b = 1        #resetting the month after 12 months\n",
    "        else:\n",
    "            break\n",
    "\n",
    "print('The total number of days is', daysDiff)\n"
   ]
  },
  {
   "cell_type": "code",
   "execution_count": null,
   "metadata": {},
   "outputs": [],
   "source": [
    "from calendar import monthrange\n",
    "\n",
    "x = monthrange(2012, 8)[1]\n",
    "print (x)"
   ]
  },
  {
   "cell_type": "markdown",
   "metadata": {},
   "source": [
    "## Part B. (10pts)\n",
    "\n",
    "There is a more straightforward way to find the date difference built into Python in `datetime` package. Use `date` function from `datetime` package to find the answer. You can find more information on how to use it on python's documentaion. This solution probably will not exceed 3-4 lines of code (excluding the `input` and `print`s)."
   ]
  },
  {
   "cell_type": "code",
   "execution_count": null,
   "metadata": {},
   "outputs": [],
   "source": [
    "# Your sfrom calendar import monthrange\n",
    "import datetime\n",
    "x=input('Enter the fisrt date in format MM/DD/YY:   ')#input the first date\n",
    "y= input('Enter the second date in format MM/DD/YY:      ')#input second date\n",
    "month1 = int(x[:2])                                   #Assigning value from input  to start month\n",
    "day1 = int(x[3:5])                                       #Assigning value from input  to start date\n",
    "year1 = int(x[6:10])                                    #Assigning value from input  to start year\n",
    "month2 = int(y[:2])                                        #Assigning value from input  to end month\n",
    "day2 = int(y[3:5])                                     #Assigning value from input  \n",
    "year2 = int(y[6:10])                                      #Assigning value from input  \n",
    "if (month1 <= 1 and month1 >= 12) and (month2 <= 1 and month2 >= 12)\\\n",
    "    and (day1 <= 1 and day1 >= 31) and (day2 <= 1 and day2 >= 31):               #checing if the input is not valid\n",
    "    print('Enter a valid month, year and days')\n",
    "else:\n",
    "    numberOfdays1 = datetime.date(year1,month1,day1)#function call setting date start\n",
    "    numberOfdays2 = datetime.date(year2,month2,day2)#function call setting date end\n",
    "    daysDiff = numberOfdays2 - numberOfdays1       #date difference\n",
    "    print('The difference in days between the start and the end date is:', daysDiff.days)\n"
   ]
  },
  {
   "cell_type": "code",
   "execution_count": null,
   "metadata": {},
   "outputs": [],
   "source": []
  },
  {
   "cell_type": "code",
   "execution_count": null,
   "metadata": {},
   "outputs": [],
   "source": []
  },
  {
   "cell_type": "code",
   "execution_count": null,
   "metadata": {},
   "outputs": [],
   "source": []
  }
 ],
 "metadata": {
  "kernelspec": {
   "display_name": "Python 3",
   "language": "python",
   "name": "python3"
  },
  "language_info": {
   "codemirror_mode": {
    "name": "ipython",
    "version": 3
   },
   "file_extension": ".py",
   "mimetype": "text/x-python",
   "name": "python",
   "nbconvert_exporter": "python",
   "pygments_lexer": "ipython3",
   "version": "3.6.5"
  }
 },
 "nbformat": 4,
 "nbformat_minor": 2
}
